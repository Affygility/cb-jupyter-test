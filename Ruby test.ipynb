{
 "cells": [
  {
   "cell_type": "code",
   "execution_count": 2,
   "id": "387a6ce5-bbcb-4820-999b-08183c7bc054",
   "metadata": {},
   "outputs": [
    {
     "name": "stdout",
     "output_type": "stream",
     "text": [
      "1\n",
      "2\n",
      "3\n"
     ]
    },
    {
     "data": {
      "text/plain": [
       "[1, 2, 3]"
      ]
     },
     "execution_count": 2,
     "metadata": {},
     "output_type": "execute_result"
    }
   ],
   "source": [
    "a = [1,2,3]\n",
    "a.each{|x| puts x}"
   ]
  },
  {
   "cell_type": "markdown",
   "id": "465b27da-8941-4a7c-b4a3-d1b77ea21a80",
   "metadata": {},
   "source": [
    "## Here's your Markdown\n",
    "\n",
    "Ok we need a way to write documentation"
   ]
  },
  {
   "cell_type": "code",
   "execution_count": 3,
   "id": "120676c4-5cad-415c-927c-cfa8e03a01d3",
   "metadata": {},
   "outputs": [
    {
     "data": {
      "text/plain": [
       ":square"
      ]
     },
     "execution_count": 3,
     "metadata": {},
     "output_type": "execute_result"
    }
   ],
   "source": [
    "def square(num)\n",
    "    puts num * num\n",
    "end"
   ]
  },
  {
   "cell_type": "code",
   "execution_count": null,
   "id": "07780c0f-2a51-4035-8dc4-df44c49c9a23",
   "metadata": {},
   "outputs": [],
   "source": []
  }
 ],
 "metadata": {
  "kernelspec": {
   "display_name": "Ruby 3.2.2",
   "language": "ruby",
   "name": "ruby"
  },
  "language_info": {
   "file_extension": ".rb",
   "mimetype": "application/x-ruby",
   "name": "ruby",
   "version": "3.2.2"
  }
 },
 "nbformat": 4,
 "nbformat_minor": 5
}
